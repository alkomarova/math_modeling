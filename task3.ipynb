{
 "cells": [
  {
   "cell_type": "code",
   "execution_count": 2,
   "metadata": {
    "collapsed": true,
    "pycharm": {
     "name": "#%%\n"
    }
   },
   "outputs": [],
   "source": [
    "import re\n",
    "import numpy as np\n",
    "import math "
   ]
  },
  {
   "cell_type": "code",
   "execution_count": 6,
   "metadata": {
    "collapsed": false,
    "pycharm": {
     "name": "#%%\n"
    }
   },
   "outputs": [],
   "source": [
    "def expression_to_matrix(exp):\n",
    "    no_coeffs = re.sub(r'x_\\d+', '', exp)\n",
    "    tokens = re.findall(r'[+-]?\\d+', no_coeffs)\n",
    "    numbers = [int(token) for token in tokens]\n",
    "    matrix = np.array(numbers)\n",
    "\n",
    "    return matrix\n",
    "\n",
    "def parse_lp_problem(file_path):\n",
    "    with open(file_path, 'r') as file:\n",
    "        lines = file.read().split('\\n')\n",
    "\n",
    "    obj = expression_to_matrix(lines[1])\n",
    "    if lines[0] == 'min':\n",
    "        obj = -obj\n",
    "    vars = len(obj)\n",
    "    add_vars = 0\n",
    "    right_side = []\n",
    "\n",
    "    def restriction_to_function(restr):\n",
    "        splitted = restr.split(' ')\n",
    "        right_side.append(float(splitted[-1]))\n",
    "        restr = expression_to_matrix(' '.join(splitted[:-2]))\n",
    "        for i in range(add_vars):\n",
    "            restr = np.append(restr, 0)\n",
    "        return restr\n",
    "\n",
    "    all_restr = []\n",
    "    for i in range(len(lines) - 2):\n",
    "        restr = lines[i+2]\n",
    "        if '>=' in restr:\n",
    "            restr = restriction_to_function(restr)\n",
    "            restr = np.append(restr, -1)\n",
    "            add_vars += 1\n",
    "        elif '<=' in restr:\n",
    "            restr = restriction_to_function(restr)\n",
    "            restr = np.append(restr, +1)\n",
    "            add_vars += 1\n",
    "        else:\n",
    "            restr = restriction_to_function(restr)\n",
    "        all_restr.append(restr)\n",
    "\n",
    "    full_matrix = np.append(all_restr[0], np.zeros(vars + add_vars - len(all_restr[0])))\n",
    "    for i in range(len(all_restr) - 1):\n",
    "        with_zeroes = np.append(all_restr[i+1], np.zeros(vars + add_vars - len(all_restr[i+1])))\n",
    "        full_matrix = np.vstack((full_matrix, with_zeroes))\n",
    "\n",
    "    obj = np.append(obj, np.zeros(add_vars))\n",
    "\n",
    "    return obj.tolist(), full_matrix.tolist(), right_side, vars\n",
    "\n",
    "file_path = 'example.txt'\n",
    "c, A, b, vars = parse_lp_problem(file_path)"
   ]
  },
  {
   "cell_type": "code",
   "execution_count": 4,
   "metadata": {
    "collapsed": false,
    "pycharm": {
     "name": "#%%\n"
    }
   },
   "outputs": [],
   "source": [
    "def to_tab(c, A, b):\n",
    "    xb = [eq + [x] for eq, x in zip(A, b)]\n",
    "    z = c + [0]\n",
    "    return xb + [z]\n",
    "\n",
    "def optimization_check(tab):\n",
    "    return any(x > 0 for x in tab[-1][:-1])\n",
    "\n",
    "def get_position(tab):\n",
    "    z = tab[-1]\n",
    "    column = next(i for i, x in enumerate(z[:-1]) if x > 0)\n",
    "\n",
    "    restrictions = []\n",
    "    for eq in tab[:-1]:\n",
    "        el = eq[column]\n",
    "        restrictions.append(math.inf if el <= 0 else eq[-1] / el)\n",
    "\n",
    "    if (all([r == math.inf for r in restrictions])):\n",
    "        raise Exception(\"Linear program is unbounded. \")\n",
    "\n",
    "    row = restrictions.index(min(restrictions))\n",
    "    return row, column\n",
    "\n",
    "def pivot_step(tab, pivot_position):\n",
    "    new_tableau = [[] for eq in tab]\n",
    "\n",
    "    i, j = pivot_position\n",
    "    pivot_value = tab[i][j]\n",
    "    new_tableau[i] = np.array(tab[i]) / pivot_value\n",
    "\n",
    "    for eq_i, eq in enumerate(tab):\n",
    "        if eq_i != i:\n",
    "            multiplier = np.array(new_tableau[i]) * tab[eq_i][j]\n",
    "            new_tableau[eq_i] = np.array(tab[eq_i]) - multiplier\n",
    "\n",
    "    return new_tableau\n",
    "\n",
    "def is_basic(column):\n",
    "    return sum(column) == 1 and len([c for c in column if c == 0]) == len(column) - 1\n",
    "\n",
    "def get_solution(tab):\n",
    "    columns = np.array(tab).T\n",
    "    solutions = []\n",
    "    for column in columns[:-1]:\n",
    "        solution = 0\n",
    "        if is_basic(column):\n",
    "            one_index = column.tolist().index(1)\n",
    "            solution = columns[-1][one_index]\n",
    "        solutions.append(solution)\n",
    "\n",
    "    return solutions\n",
    "\n",
    "def simplex_method(c, A, b):\n",
    "    tab = to_tab(c, A, b)\n",
    "    while optimization_check(tab):\n",
    "        pivot_position = get_position(tab)\n",
    "        tab = pivot_step(tab, pivot_position)\n",
    "\n",
    "    return get_solution(tab)"
   ]
  },
  {
   "cell_type": "code",
   "execution_count": 5,
   "metadata": {
    "collapsed": false,
    "pycharm": {
     "name": "#%%\n"
    }
   },
   "outputs": [
    {
     "name": "stdout",
     "output_type": "stream",
     "text": [
      "solution:  [9200.0, 500.0, 300.0, 0]\n",
      "optimal_value:  9700.0\n"
     ]
    }
   ],
   "source": [
    "solution = simplex_method(c, A, b)\n",
    "optimal_value = np.dot(solution, c)\n",
    "print('solution: ', solution[:vars])\n",
    "print('optimal_value: ', optimal_value) "
   ]
  },
  {
   "cell_type": "code",
   "execution_count": null,
   "metadata": {
    "collapsed": false
   },
   "outputs": [],
   "source": []
  }
 ],
 "metadata": {
  "kernelspec": {
   "display_name": "base",
   "language": "python",
   "name": "python3"
  },
  "language_info": {
   "codemirror_mode": {
    "name": "ipython",
    "version": 3
   },
   "file_extension": ".py",
   "mimetype": "text/x-python",
   "name": "python",
   "nbconvert_exporter": "python",
   "pygments_lexer": "ipython3",
   "version": "3.9.13"
  }
 },
 "nbformat": 4,
 "nbformat_minor": 0
}
