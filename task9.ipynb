{
 "cells": [
  {
   "cell_type": "code",
   "execution_count": 2,
   "metadata": {
    "ExecuteTime": {
     "end_time": "2024-01-16T09:34:43.779815Z",
     "start_time": "2024-01-16T09:34:43.773200Z"
    },
    "collapsed": true,
    "pycharm": {
     "name": "#%%\n"
    }
   },
   "outputs": [],
   "source": [
    "with open('matrix.txt') as f:\n",
    "    matrix = [list(map(float, row.split())) for row in f.readlines()]"
   ]
  },
  {
   "cell_type": "code",
   "execution_count": 3,
   "metadata": {
    "ExecuteTime": {
     "end_time": "2024-01-16T09:34:44.080813Z",
     "start_time": "2024-01-16T09:34:44.070611Z"
    },
    "collapsed": false
   },
   "outputs": [
    {
     "name": "stdout",
     "output_type": "stream",
     "text": [
      "Матрица экспертных оценок: \n",
      " [[1.0, 2.0, 3.5, 3.0, 4.0], [2.5, 2.0, 1.5, 2.0, 1.0], [2.5, 2.0, 3.0, 1.0, 2.0], [4.0, 3.5, 3.5, 4.0, 1.0]]\n"
     ]
    }
   ],
   "source": [
    "print('Матрица экспертных оценок: \\n', matrix)"
   ]
  },
  {
   "cell_type": "code",
   "execution_count": 4,
   "metadata": {
    "ExecuteTime": {
     "end_time": "2024-01-16T09:34:44.460654Z",
     "start_time": "2024-01-16T09:34:44.450454Z"
    },
    "collapsed": false
   },
   "outputs": [
    {
     "name": "stdout",
     "output_type": "stream",
     "text": [
      "Количество экспертов:  4\n",
      "Количество объектов:  5\n"
     ]
    }
   ],
   "source": [
    "print('Количество экспертов: ', len(matrix) )\n",
    "print('Количество объектов: ', len(matrix[0]))"
   ]
  },
  {
   "cell_type": "code",
   "execution_count": 5,
   "metadata": {
    "ExecuteTime": {
     "end_time": "2024-01-16T09:34:44.820293Z",
     "start_time": "2024-01-16T09:34:44.809585Z"
    },
    "collapsed": false
   },
   "outputs": [],
   "source": [
    "import numpy as np \n",
    "\n",
    "matrix = np.array(matrix)\n",
    "B = matrix@matrix.T\n",
    "C = matrix.T@matrix"
   ]
  },
  {
   "cell_type": "code",
   "execution_count": 10,
   "metadata": {
    "ExecuteTime": {
     "end_time": "2024-01-16T09:34:45.209831Z",
     "start_time": "2024-01-16T09:34:45.202039Z"
    },
    "collapsed": false
   },
   "outputs": [],
   "source": [
    "def arr_to_vector(arr):\n",
    "    # Перемножение элементов в каждой строке\n",
    "    product_per_row = np.prod(arr, axis=1)\n",
    "    # Корень n-ной степени от произведения\n",
    "    n = arr.shape[1] \n",
    "    result = np.power(product_per_row, 1/n)\n",
    "    # Возвращаем нормированный вектор\n",
    "    return result / np.sum(result)"
   ]
  },
  {
   "cell_type": "code",
   "execution_count": 7,
   "metadata": {
    "ExecuteTime": {
     "end_time": "2024-01-16T09:34:45.887653Z",
     "start_time": "2024-01-16T09:34:45.881083Z"
    },
    "collapsed": false
   },
   "outputs": [
    {
     "name": "stdout",
     "output_type": "stream",
     "text": [
      "Коэффициенты обобщенной оценки объектов:  [0.26821207 0.18386309 0.21621527 0.33170956]\n"
     ]
    }
   ],
   "source": [
    "est = arr_to_vector(B)\n",
    "print('Коэффициенты обобщенной оценки объектов: ', est)"
   ]
  },
  {
   "cell_type": "code",
   "execution_count": 8,
   "metadata": {
    "ExecuteTime": {
     "end_time": "2024-01-16T09:34:46.455238Z",
     "start_time": "2024-01-16T09:34:46.450342Z"
    },
    "collapsed": false
   },
   "outputs": [
    {
     "name": "stdout",
     "output_type": "stream",
     "text": [
      "Коэффициенты компетентности экспертов:  [0.19829562 0.193934   0.23710756 0.21185808 0.15880474]\n"
     ]
    }
   ],
   "source": [
    "comp = arr_to_vector(C)\n",
    "print('Коэффициенты компетентности экспертов: ', comp)"
   ]
  },
  {
   "cell_type": "code",
   "execution_count": 9,
   "metadata": {
    "ExecuteTime": {
     "end_time": "2024-01-16T09:34:51.054350Z",
     "start_time": "2024-01-16T09:34:51.049937Z"
    },
    "collapsed": false
   },
   "outputs": [],
   "source": [
    "file_name = 'results.txt'\n",
    "with open(file_name, 'w') as file:\n",
    "    file.write(\"Обобщенная оценка экспертов\\tКомпетентность экспертов\\n\")  # Заголовок\n",
    "    for v1, v2 in zip(est, comp):\n",
    "        file.write(f\"{v1}\\t{v2}\\n\")"
   ]
  },
  {
   "cell_type": "code",
   "execution_count": null,
   "metadata": {
    "collapsed": false
   },
   "outputs": [],
   "source": []
  }
 ],
 "metadata": {
  "kernelspec": {
   "display_name": "Python 3",
   "language": "python",
   "name": "python3"
  },
  "language_info": {
   "codemirror_mode": {
    "name": "ipython",
    "version": 3
   },
   "file_extension": ".py",
   "mimetype": "text/x-python",
   "name": "python",
   "nbconvert_exporter": "python",
   "pygments_lexer": "ipython3",
   "version": "3.11.0"
  }
 },
 "nbformat": 4,
 "nbformat_minor": 0
}
