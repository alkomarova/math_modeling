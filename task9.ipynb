{
 "cells": [
  {
   "cell_type": "code",
   "execution_count": 1,
   "metadata": {
    "collapsed": true,
    "pycharm": {
     "name": "#%%\n"
    },
    "ExecuteTime": {
     "end_time": "2024-01-16T08:46:38.811904Z",
     "start_time": "2024-01-16T08:46:38.801827Z"
    }
   },
   "outputs": [],
   "source": [
    "with open('matrix.txt') as f:\n",
    "    matrix = [list(map(float, row.split())) for row in f.readlines()]"
   ]
  },
  {
   "cell_type": "code",
   "outputs": [
    {
     "name": "stdout",
     "output_type": "stream",
     "text": [
      "Матрица экспертных оценок: \n",
      " [[1.0, 2.0, 3.5, 3.0, 4.0], [2.5, 2.0, 1.5, 2.0, 1.0], [2.5, 2.0, 3.0, 1.0, 2.0], [4.0, 3.5, 3.5, 4.0, 1.0]]\n"
     ]
    }
   ],
   "source": [
    "print('Матрица экспертных оценок: \\n', matrix)"
   ],
   "metadata": {
    "collapsed": false,
    "ExecuteTime": {
     "end_time": "2024-01-16T08:46:38.815579Z",
     "start_time": "2024-01-16T08:46:38.810386Z"
    }
   },
   "execution_count": 2
  },
  {
   "cell_type": "code",
   "outputs": [
    {
     "name": "stdout",
     "output_type": "stream",
     "text": [
      "Количество экспертов:  4\n",
      "Количество объектов:  5\n"
     ]
    }
   ],
   "source": [
    "print('Количество экспертов: ', len(matrix) )\n",
    "print('Количество объектов: ', len(matrix[0]))"
   ],
   "metadata": {
    "collapsed": false,
    "ExecuteTime": {
     "end_time": "2024-01-16T08:46:38.820850Z",
     "start_time": "2024-01-16T08:46:38.814698Z"
    }
   },
   "execution_count": 3
  },
  {
   "cell_type": "code",
   "outputs": [],
   "source": [
    "import numpy as np \n",
    "\n",
    "matrix = np.array(matrix)\n",
    "B = matrix@matrix.T\n",
    "C = matrix.T@matrix"
   ],
   "metadata": {
    "collapsed": false,
    "ExecuteTime": {
     "end_time": "2024-01-16T08:46:38.962301Z",
     "start_time": "2024-01-16T08:46:38.823563Z"
    }
   },
   "execution_count": 4
  },
  {
   "cell_type": "code",
   "outputs": [
    {
     "data": {
      "text/plain": "array([0.26821207, 0.18386309, 0.21621527, 0.33170956])"
     },
     "execution_count": 11,
     "metadata": {},
     "output_type": "execute_result"
    }
   ],
   "source": [
    "def arr_to_vector(arr):\n",
    "    # Перемножение элементов в каждой строке\n",
    "    product_per_row = np.prod(arr, axis=1)\n",
    "    # Корень n-ной степени от произведения\n",
    "    n = arr.shape[1] \n",
    "    result = np.power(product_per_row, 1/n)\n",
    "    #Возвращаем нормированный вектор\n",
    "    return result / np.sum(result)"
   ],
   "metadata": {
    "collapsed": false,
    "ExecuteTime": {
     "end_time": "2024-01-16T08:58:02.881589Z",
     "start_time": "2024-01-16T08:58:02.876369Z"
    }
   },
   "execution_count": 11
  },
  {
   "cell_type": "code",
   "outputs": [
    {
     "name": "stdout",
     "output_type": "stream",
     "text": [
      "Коэффициенты обобщенной оценки объектов:  [0.26821207 0.18386309 0.21621527 0.33170956]\n"
     ]
    }
   ],
   "source": [
    "est = arr_to_vector(B)\n",
    "print('Коэффициенты обобщенной оценки объектов: ', est)"
   ],
   "metadata": {
    "collapsed": false,
    "ExecuteTime": {
     "end_time": "2024-01-16T09:04:44.365367Z",
     "start_time": "2024-01-16T09:04:44.356219Z"
    }
   },
   "execution_count": 15
  },
  {
   "cell_type": "code",
   "outputs": [
    {
     "name": "stdout",
     "output_type": "stream",
     "text": [
      "Коэффициенты компетентности экспертов:  [0.19829562 0.193934   0.23710756 0.21185808 0.15880474]\n"
     ]
    }
   ],
   "source": [
    "comp = arr_to_vector(C)\n",
    "print('Коэффициенты компетентности экспертов: ', comp)"
   ],
   "metadata": {
    "collapsed": false,
    "ExecuteTime": {
     "end_time": "2024-01-16T09:04:44.769926Z",
     "start_time": "2024-01-16T09:04:44.765401Z"
    }
   },
   "execution_count": 16
  },
  {
   "cell_type": "code",
   "outputs": [],
   "source": [
    "file_name = 'results.txt'\n",
    "with open(file_name, 'w') as file:\n",
    "    file.write(\"Обобщенная оценка экспертов\\tКомпетентность экспертов\\n\")  # Заголовок\n",
    "    for v1, v2 in zip(est, comp):\n",
    "        file.write(f\"{v1}\\t{v2}\\n\")"
   ],
   "metadata": {
    "collapsed": false,
    "ExecuteTime": {
     "end_time": "2024-01-16T09:08:16.656309Z",
     "start_time": "2024-01-16T09:08:16.651076Z"
    }
   },
   "execution_count": 24
  },
  {
   "cell_type": "code",
   "outputs": [],
   "source": [],
   "metadata": {
    "collapsed": false
   }
  }
 ],
 "metadata": {
  "kernelspec": {
   "name": "env_name",
   "language": "python",
   "display_name": "env_name"
  },
  "language_info": {
   "codemirror_mode": {
    "name": "ipython",
    "version": 2
   },
   "file_extension": ".py",
   "mimetype": "text/x-python",
   "name": "python",
   "nbconvert_exporter": "python",
   "pygments_lexer": "ipython2",
   "version": "2.7.6"
  }
 },
 "nbformat": 4,
 "nbformat_minor": 0
}
