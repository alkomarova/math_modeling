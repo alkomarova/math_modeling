{
  "cells": [
    {
      "cell_type": "markdown",
      "metadata": {
        "id": "yShMkbCcWbP9"
      },
      "source": [
        "# Task13\n",
        "\n",
        "Фирма планирует реализацию своей продукции на рынках, учитывая возможные варианты покупательского спроса Пj, j=1,4 (низкий, средний, высокий, очень высокий). На предприятии разработано три стратегии сбыта товаров A1, А2, А3. Объем товарооборота (ден.ед.), зависящий от стратегии и покупательского спроса, представлен в таблице.\n",
        "\n",
        "| А/П  | П1  | П2 | П3 |П4|\n",
        "|----------|----------|----------|----------|----------|\n",
        "| А1         | 30 +N\t| 10 | 20 |25 + N/2  |\n",
        "| А2         | 50 | 70 - N |  10 + N/2       |  25        |\n",
        "| А3         | 25 – N/2 | 35       | 40      | 60 - N/2 |\n",
        "\n",
        "где N=3\n",
        "Известны возможные состояния покупательского спроса, которые соответственно q1=0,3, q2=0,2, q3=0,4, q4=0,1. Необходимо найти стратегию сбыта, максимизирующую средний товарооборот фирмы. При этом использовать критерии Вальда, Гурвица, Сэвиджа, Байеса.\n"
      ]
    },
    {
      "cell_type": "code",
      "execution_count": 39,
      "metadata": {
        "id": "H5KAI7_LUTgZ"
      },
      "outputs": [],
      "source": [
        "import numpy as np\n",
        "\n",
        "matrix = np.array([\n",
        "    [33,10,20,26.5],\n",
        "    [50,67,11.5,25],\n",
        "    [23.5,35,40,58.5]\n",
        "])\n",
        "\n",
        "p = np.array([0.3, 0.2, 0.4, 0.1])\n",
        "alpha = 0.5"
      ]
    },
    {
      "cell_type": "code",
      "execution_count": 5,
      "metadata": {
        "colab": {
          "base_uri": "https://localhost:8080/"
        },
        "id": "AC7WenWvZezP",
        "outputId": "a2d70956-328f-407d-d9d6-6c3fa93c9e78"
      },
      "outputs": [
        {
          "data": {
            "text/plain": [
              "array([0.3, 0.2, 0.4, 0.1])"
            ]
          },
          "execution_count": 5,
          "metadata": {},
          "output_type": "execute_result"
        }
      ],
      "source": [
        "p.T"
      ]
    },
    {
      "cell_type": "code",
      "execution_count": 16,
      "metadata": {
        "id": "wOOim3JnYTte"
      },
      "outputs": [],
      "source": [
        "#Байес\n",
        "\n",
        "def bayes(matrix, p):\n",
        "    new_matrix = matrix * p.T\n",
        "    vector = [sum(x) for x in new_matrix]\n",
        "    strat = np.argmax(vector)+1\n",
        "    print(f'Вектор Байеса: {vector}')\n",
        "    print(f'Лучшая стратегия по Байесу: {strat}')\n",
        "    return strat"
      ]
    },
    {
      "cell_type": "code",
      "execution_count": 17,
      "metadata": {
        "colab": {
          "base_uri": "https://localhost:8080/"
        },
        "id": "BctGkRDGZnYv",
        "outputId": "ddf9dc71-2a42-460c-c135-b6cecfeedc3d"
      },
      "outputs": [
        {
          "name": "stdout",
          "output_type": "stream",
          "text": [
            "Вектор Байеса: [22.549999999999997, 35.5, 35.9]\n",
            "Лучшая стратегия по Байесу: 3\n"
          ]
        }
      ],
      "source": [
        "b = bayes(matrix,p)"
      ]
    },
    {
      "cell_type": "code",
      "execution_count": 21,
      "metadata": {
        "id": "hA7koeq3Zo3G"
      },
      "outputs": [],
      "source": [
        "#Лаплас\n",
        "\n",
        "def laplace(matrix, p):\n",
        "    p[...] = 1/len(p)\n",
        "    new_matrix = matrix * p.T\n",
        "    vector = [sum(x) for x in new_matrix]\n",
        "    strat = np.argmax(vector)+1\n",
        "    print(f'Вектор Лапласа: {vector}')\n",
        "    print(f'Лучшая стратегия по Лапласу: {strat}')\n",
        "    return strat"
      ]
    },
    {
      "cell_type": "code",
      "execution_count": 22,
      "metadata": {
        "colab": {
          "base_uri": "https://localhost:8080/"
        },
        "id": "EjMMd0Labh_b",
        "outputId": "869583cd-03fa-4fe8-84ea-9c4349700005"
      },
      "outputs": [
        {
          "name": "stdout",
          "output_type": "stream",
          "text": [
            "Вектор Лапласа: [22.375, 38.375, 39.25]\n",
            "Лучшая стратегия по Лапласу: 3\n"
          ]
        }
      ],
      "source": [
        "l = laplace(matrix, p)"
      ]
    },
    {
      "cell_type": "code",
      "execution_count": 23,
      "metadata": {
        "id": "MQhWZbXVbkzn"
      },
      "outputs": [],
      "source": [
        "#Вальд\n",
        "#По критерию Вальда за оптимальную принимается чистая стратегия, которая в наихудших условиях гарантирует максимальный выигрыш, т.е. a = max(min aij)\n",
        "\n",
        "def vald(matrix):\n",
        "    vector = [min(x) for x in matrix]\n",
        "    strat = np.argmax(vector)+1\n",
        "    print(f'Вектор Вальда: {vector}')\n",
        "    print(f'Лучшая стратегия по Вальду: {strat}')\n",
        "    return strat"
      ]
    },
    {
      "cell_type": "code",
      "execution_count": 24,
      "metadata": {
        "colab": {
          "base_uri": "https://localhost:8080/"
        },
        "id": "EV_5SV4ncVdL",
        "outputId": "0d4c4f40-11a1-47e7-d0d9-de53281d00b0"
      },
      "outputs": [
        {
          "name": "stdout",
          "output_type": "stream",
          "text": [
            "Вектор Вальда: [10.0, 11.5, 23.5]\n",
            "Лучшая стратегия по Вальду: 3\n"
          ]
        }
      ],
      "source": [
        "v = vald(matrix)"
      ]
    },
    {
      "cell_type": "code",
      "execution_count": 37,
      "metadata": {
        "id": "DqtOo6KwcZgS"
      },
      "outputs": [],
      "source": [
        "#Сэвидж\n",
        "#ориентирует статистику на самые неблагоприятные состояния природы, т.е. этот критерий выражает пессимистическую оценку ситуации.\n",
        "\n",
        "def savidge(matrix):\n",
        "    max_values = matrix.max(axis=0)\n",
        "    vector = [-1*min(x) for x in matrix - max_values]\n",
        "    strat = np.argmin(vector)+1\n",
        "    print(f'Вектор Севиджа: {vector}')\n",
        "    print(f'Лучшая стратегия по Севиджу: {strat}')\n",
        "    return strat"
      ]
    },
    {
      "cell_type": "code",
      "execution_count": 38,
      "metadata": {
        "colab": {
          "base_uri": "https://localhost:8080/"
        },
        "id": "d9_o1asFdgPI",
        "outputId": "4ddd9b3b-ca41-4f89-f9fb-a8d1d8ee79a3"
      },
      "outputs": [
        {
          "name": "stdout",
          "output_type": "stream",
          "text": [
            "Вектор Севиджа: [57.0, 33.5, 32.0]\n",
            "Лучшая стратегия по Севиджу: 3\n"
          ]
        }
      ],
      "source": [
        "s = savidge(matrix)"
      ]
    },
    {
      "cell_type": "code",
      "execution_count": 41,
      "metadata": {
        "id": "eSK25QzWdkM5"
      },
      "outputs": [],
      "source": [
        "#Гурвиц\n",
        "#Критерий Гурвица является критерием пессимизма - оптимизма.\n",
        "#За (оптимальную принимается та стратегия, для которой выполняется соотношение: max(si) где si = y min(aij) + (1-y)max(aij)\n",
        "#При y = 1 получим критерий Вальде, при y = 0 получим – оптимистический критерий (максимакс).\n",
        "#Критерий Гурвица учитывает возможность как наихудшего, так и наилучшего для человека поведения природы. Как выбирается y?\n",
        "# Чем хуже последствия ошибочных решений, тем больше желание застраховаться от ошибок, тем y ближе к 1.\n",
        "\n",
        "def gurviz(matrix, alpha):\n",
        "    vector = [alpha*min(x)+(1-alpha)*max(x) for x in matrix]\n",
        "    strat = np.argmax(vector)+1\n",
        "    print(f'Вектор Гурвица: {vector}')\n",
        "    print(f'Лучшая стратегия по Гурвицу: {strat}')\n",
        "    return strat"
      ]
    },
    {
      "cell_type": "code",
      "execution_count": 42,
      "metadata": {
        "colab": {
          "base_uri": "https://localhost:8080/"
        },
        "id": "fUq00jNxg_Mi",
        "outputId": "045222fb-5910-4c17-aa70-f565158a5063"
      },
      "outputs": [
        {
          "name": "stdout",
          "output_type": "stream",
          "text": [
            "Вектор Гурвица: [21.5, 39.25, 41.0]\n",
            "Лучшая стратегия по Гурвицу: 3\n"
          ]
        }
      ],
      "source": [
        "g = gurviz(matrix, alpha)"
      ]
    },
    {
      "cell_type": "markdown",
      "metadata": {
        "id": "YJgfuOdOkNNH"
      },
      "source": [
        "### Результат\n",
        "Наиболее часто предлагаемая стратегия - стратегия 3."
      ]
    },
    {
      "cell_type": "code",
      "execution_count": null,
      "metadata": {
        "id": "Yir0SB3FkVU7"
      },
      "outputs": [],
      "source": []
    }
  ],
  "metadata": {
    "colab": {
      "provenance": []
    },
    "kernelspec": {
      "display_name": "Python 3",
      "name": "python3"
    },
    "language_info": {
      "name": "python"
    }
  },
  "nbformat": 4,
  "nbformat_minor": 0
}
